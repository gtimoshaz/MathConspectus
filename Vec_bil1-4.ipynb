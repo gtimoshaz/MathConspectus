{
 "cells": [
  {
   "cell_type": "markdown",
   "metadata": {},
   "source": [
    "# Билеты 1-4. Векторы\n",
    "## Векторы. Свойства векторов\n",
    "Вектор $ \\vec a $ размерности $ i $ &mdash; это упорядоченный набор чисел $a_1, a_2, \\cdots, a_i $. Может обозначаться $ \\vec a = \\langle a_1, a_2, \\cdots, a_i \\rangle = (a_1, a_2, \\cdots, a_i) = \\{ a_1, a_2, \\cdots, a_i \\} $. Мы будем использовать третье обозначение\n",
    "Кроме того, вектор часто обозначает направленный отрезок, например, на плоскости, если он от двух переменных."
   ]
  },
  {
   "cell_type": "code",
   "execution_count": 21,
   "metadata": {},
   "outputs": [],
   "source": [
    "import numpy as np\n",
    "import matplotlib.pyplot as plt\n",
    "import ipywidgets as widgets\n",
    "%matplotlib inline"
   ]
  },
  {
   "cell_type": "code",
   "execution_count": 13,
   "metadata": {},
   "outputs": [
    {
     "data": {
      "image/png": "[encoded data removed]",
      "text/plain": [
       "<matplotlib.figure.Figure at 0x7f76763cabe0>"
      ]
     },
     "metadata": {},
     "output_type": "display_data"
    }
   ],
   "source": [
    "plt.grid()\n",
    "plt.arrow(0, 0, 0.7, 0.5, head_length=0.1, head_width=0.05, fc=\"k\", length_includes_head=True)\n",
    "plt.annotate(\"$\\\\vec a = \\\\{ 0{,}7; 0{,}5 \\\\}$\", xy=(0.7, 0.6), fontsize=14)\n",
    "plt.show()"
   ]
  },
  {
   "cell_type": "markdown",
   "metadata": {},
   "source": [
    "Определим некоторые операции над векторами:\n",
    "1. **Сложение двух векторов одинаковой размерности: **  \n",
    " Пусть $ \\vec a = \\{ a_1, a_2, \\cdots, a_i\\} $, $ \\vec b = \\{ b_1, b_2, \\cdots, b_i \\} $. Тогда определим операцию сложения:\n",
    " $ \\vec c = \\vec a + \\vec b = \\{ a_1 + b_1, a_2 + b_2, \\cdots, a_i + b_i \\} $\n",
    "2. **Умножение вектора на число ** $ \\lambda \\in \\mathbb {R} $:  \n",
    " Пусть $ \\vec a = \\{ a_1, a_2, \\cdots, a_i \\} $. Тогда $ \\lambda \\cdot \\vec a = \\vec a \\cdot \\lambda = \\{ \\lambda \\cdot a_1, \n",
    " \\lambda \\cdot a_2, \\cdots, \\lambda \\cdot a_i \\} $"
   ]
  },
  {
   "cell_type": "markdown",
   "metadata": {},
   "source": [
    "Теперь легко доказать некоторые их свойства:\n",
    "1. Коммутативность сложения:  \n",
    " Поскольку $ \\vec a + \\vec b = \\{ a_1 + b_1, a_2 + b_2, \\cdots, a_i + b_i \\} $, а $ \\vec b + \\vec a = \\{ b_1 + a_1, b_2 + a_2, \\cdots, b_i + a_i \\} $. Но ведь элементы вектора &mdash; это просто числа, и их сумма как раз коммутативна, следовательно, все элементы этих векторов равны и, следовательно, они равны\n",
    "2. Ассоциативность сложения:  \n",
    " Аналогичным образом доказывается, что если векторы $\\vec a, \\vec b, \\vec c $ имеют одинаковую размерность, то $ (\\vec a + \\vec b) + \\vec c = \\vec a + (\\vec b + \\vec c) $. \n",
    "3. Дистрибутивность:  \n",
    " 1. По вектору (она же линейность): $ \\lambda \\cdot (\\vec a + \\vec b) = \\lambda \\cdot \\vec a + \\lambda \\cdot \\vec b $\n",
    " 2. По числу: $ (\\lambda + \\mu) \\cdot \\vec a = \\lambda \\cdot \\vec a + \\mu \\cdot \\vec a $\n",
    "4. Существование нулевого элемента (is it Mass Effect reference?):  \n",
    " $ \\vec 0 = \\{ 0, 0, \\cdots, 0 \\} $ при сложении с любым вектором $ \\vec a $ даёт его же ($ \\forall \\vec a: \\vec a + \\vec 0 = \\vec a $)\n",
    "5. Существавание противоположного элемента:\n",
    " Для любого элемента $ \\vec a $ найдётся такой противоположный ему элемент, обозначаемый $-\\vec a $, такой, что $ \\vec a + (-\\vec a) = \\vec 0 $\n",
    "\n",
    "Проиллюстрируем некоторые из этих свойств:"
   ]
  },
  {
   "cell_type": "code",
   "execution_count": 25,
   "metadata": {},
   "outputs": [
    {
     "data": {
      "application/vnd.jupyter.widget-view+json": {
       "model_id": "c97ea35390bb414ea1be465f7117e4de",
       "version_major": 2,
       "version_minor": 0
      },
      "text/html": [
       "<p>Failed to display Jupyter Widget of type <code>interactive</code>.</p>\n",
       "<p>\n",
       "  If you're reading this message in the Jupyter Notebook or JupyterLab Notebook, it may mean\n",
       "  that the widgets JavaScript is still loading. If this message persists, it\n",
       "  likely means that the widgets JavaScript library is either not installed or\n",
       "  not enabled. See the <a href=\"https://ipywidgets.readthedocs.io/en/stable/user_install.html\">Jupyter\n",
       "  Widgets Documentation</a> for setup instructions.\n",
       "</p>\n",
       "<p>\n",
       "  If you're reading this message in another frontend (for example, a static\n",
       "  rendering on GitHub or <a href=\"https://nbviewer.jupyter.org/\">NBViewer</a>),\n",
       "  it may mean that your frontend doesn't currently support widgets.\n",
       "</p>\n"
      ],
      "text/plain": [
       "interactive(children=(FloatSlider(value=0.5, description='x1', max=0.5, step=0.125), FloatSlider(value=0.125, description='y1', max=0.5, step=0.125), FloatSlider(value=0.375, description='x2', max=0.5, step=0.125), FloatSlider(value=0.5, description='y2', max=0.5, step=0.125), Output()), _dom_classes=('widget-interact',))"
      ]
     },
     "metadata": {},
     "output_type": "display_data"
    },
    {
     "data": {
      "text/plain": [
       "<function __main__.plot_2_vec>"
      ]
     },
     "execution_count": 25,
     "metadata": {},
     "output_type": "execute_result"
    }
   ],
   "source": [
    "# коммутативность\n",
    "\n",
    "def plot_2_vec(x1, y1, x2, y2):\n",
    "    plt.grid()\n",
    "    plt.arrow( 0,  0, x1, y1, head_length=0.1, head_width=0.05, ec=\"b\", fc=\"b\", length_includes_head=True)\n",
    "    plt.arrow(x1, y1, x2, y2, head_length=0.1, head_width=0.05, ec=\"r\", fc=\"r\", length_includes_head=True)\n",
    "    plt.arrow( 0,  0, x2, y2, head_length=0.1, head_width=0.05, ec=\"g\", fc=\"g\", length_includes_head=True)\n",
    "    plt.arrow(x2, y2, x1, y1, head_length=0.1, head_width=0.05, ec=\"y\", fc=\"y\", length_includes_head=True)\n",
    "    plt.show()\n",
    "\n",
    "widgets.interact(plot_2_vec, \n",
    "                 x1=widgets.FloatSlider(min=0, max=0.5, step=0.125, value=0.5),\n",
    "                 y1=widgets.FloatSlider(min=0, max=0.5, step=0.125, value=0.125),\n",
    "                 x2=widgets.FloatSlider(min=0, max=0.5, step=0.125, value=0.375),\n",
    "                 y2=widgets.FloatSlider(min=0, max=0.5, step=0.125, value=0.5), )"
   ]
  },
  {
   "cell_type": "code",
   "execution_count": 40,
   "metadata": {},
   "outputs": [
    {
     "data": {
      "application/vnd.jupyter.widget-view+json": {
       "model_id": "7a45b47a64cb4cf09fd5a980a957fba9",
       "version_major": 2,
       "version_minor": 0
      },
      "text/html": [
       "<p>Failed to display Jupyter Widget of type <code>interactive</code>.</p>\n",
       "<p>\n",
       "  If you're reading this message in the Jupyter Notebook or JupyterLab Notebook, it may mean\n",
       "  that the widgets JavaScript is still loading. If this message persists, it\n",
       "  likely means that the widgets JavaScript library is either not installed or\n",
       "  not enabled. See the <a href=\"https://ipywidgets.readthedocs.io/en/stable/user_install.html\">Jupyter\n",
       "  Widgets Documentation</a> for setup instructions.\n",
       "</p>\n",
       "<p>\n",
       "  If you're reading this message in another frontend (for example, a static\n",
       "  rendering on GitHub or <a href=\"https://nbviewer.jupyter.org/\">NBViewer</a>),\n",
       "  it may mean that your frontend doesn't currently support widgets.\n",
       "</p>\n"
      ],
      "text/plain": [
       "interactive(children=(FloatSlider(value=0.5, description='x1', max=0.5, step=0.125), FloatSlider(value=0.125, description='y1', max=0.5, step=0.125), FloatSlider(value=0.375, description='x2', max=0.5, min=-0.125, step=0.125), FloatSlider(value=0.5, description='y2', max=0.5, min=-0.125, step=0.125), FloatSlider(value=1.0, description='$\\\\lambda$', max=1.25, min=0.25, step=0.125), Output()), _dom_classes=('widget-interact',))"
      ]
     },
     "metadata": {},
     "output_type": "display_data"
    },
    {
     "data": {
      "text/plain": [
       "<function __main__.plot_linearity>"
      ]
     },
     "execution_count": 40,
     "metadata": {},
     "output_type": "execute_result"
    }
   ],
   "source": [
    "# Линейность\n",
    "\n",
    "def plot_linearity(x1, y1, x2, y2, lmbd):\n",
    "    plt.grid()\n",
    "    endx = lmbd * (x1 + x2)\n",
    "    endy = lmbd * (y1 + y2)\n",
    "    plt.arrow(        0,          0, lmbd * x1, lmbd * y1, head_length=0.1, head_width=0.05, ec=\"b\", fc=\"b\", length_includes_head=True)\n",
    "    plt.arrow(lmbd * x1,  lmbd * y1, lmbd * x2, lmbd * y2, head_length=0.1, head_width=0.05, ec=\"r\", fc=\"r\", length_includes_head=True)\n",
    "    if not (endx == 0 and endy == 0): \n",
    "        plt.arrow(0, 0, endx, endy, head_length=0.1, head_width=0.05, ec=\"g\", fc=\"g\", length_includes_head=True)\n",
    "    plt.show()\n",
    "\n",
    "widgets.interact(plot_linearity, \n",
    "                 x1   = widgets.FloatSlider(min=0, max=0.5 , step=0.125, value=0.5),\n",
    "                 y1   = widgets.FloatSlider(min=0, max=0.5 , step=0.125, value=0.125),\n",
    "                 x2   = widgets.FloatSlider(min=-0.125, max=0.5 , step=0.125, value=0.375),\n",
    "                 y2   = widgets.FloatSlider(min=-0.125, max=0.5 , step=0.125, value=0.5), \n",
    "                 lmbd = widgets.FloatSlider(min=0.25, max=1.25, step=0.125, value=1, description=\"$\\\\lambda$\"))"
   ]
  },
  {
   "cell_type": "markdown",
   "metadata": {},
   "source": [
    "## Линейная зависимость. Базис\n",
    "**Линейной комбинацией векторов** $ \\vec a_1, \\vec a_2, \\cdots, \\vec a_n$ называется сумма $ \\lambda_1 \\cdot \\vec a_1 + \\lambda_2 \\cdot \\vec a_2 + \\cdots + \\lambda_n \\cdot \\vec a_n $. Если хотя бы один из коэффициентов $ \\lambda_1, \\lambda_2, \\cdots, \\lambda_n $ не равен нулю, то такая линейная комбинация называется ненулевой.\n",
    "\n",
    "Говорят, что несколько векторов одной размерности $ \\vec a_1, \\vec a_2, \\cdots, \\vec a_i$ образуют **линейно независимую систему**, если не существует их ненулевой линейной комбинации, обращающейся в ноль. В противном случае эти вектора одной размерности образуют **линейно зависимую систему** и являются **компланарными**. Пример линейно зависимой системы можно составить в иллюстрации линейности: если синий и красный вектора будут параллельны, то система будет линейно зависима, в противном случае &mdash; линейно независима. \n",
    "\n",
    "**Базисом** называется максимальная линейно независимая система векторов, то есть такая, что если в неё добавить любой вектор той же размерности, она станет линейно зависимой. \n",
    "\n"
   ]
  }
 ],
 "metadata": {
  "kernelspec": {
   "display_name": "Python 3",
   "language": "python",
   "name": "python3"
  },
  "language_info": {
   "codemirror_mode": {
    "name": "ipython",
    "version": 3
   },
   "file_extension": ".py",
   "mimetype": "text/x-python",
   "name": "python",
   "nbconvert_exporter": "python",
   "pygments_lexer": "ipython3",
   "version": "3.5.2"
  }
 },
 "nbformat": 4,
 "nbformat_minor": 2
}
